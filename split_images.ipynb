{
 "cells": [
  {
   "cell_type": "code",
   "execution_count": 1,
   "id": "04598e2c-2a15-4fed-ac91-8835425cdadb",
   "metadata": {
    "tags": []
   },
   "outputs": [],
   "source": [
    "import os\n",
    "import glob\n",
    "import cv2\n",
    "from PIL import Image"
   ]
  },
  {
   "cell_type": "code",
   "execution_count": 2,
   "id": "7573baba-744b-443e-87df-abf305e1a6f8",
   "metadata": {
    "tags": []
   },
   "outputs": [],
   "source": [
    "# path = r'C:\\Users\\nimod\\Documents\\Simonin_Doc\\counter_Yolo' # path windows\n",
    "path = '/home/nicolas/Documents/counter_Yolo' # path ubuntu"
   ]
  },
  {
   "cell_type": "code",
   "execution_count": 3,
   "id": "189aeee2-0e78-4d38-8684-eea4082e2fe7",
   "metadata": {
    "tags": []
   },
   "outputs": [
    {
     "data": {
      "text/plain": [
       "['/home/nicolas/Documents/counter_Yolo/raw_images/IMG_0282.JPG',\n",
       " '/home/nicolas/Documents/counter_Yolo/raw_images/IMG_0316.JPG',\n",
       " '/home/nicolas/Documents/counter_Yolo/raw_images/IMG_0301.JPG',\n",
       " '/home/nicolas/Documents/counter_Yolo/raw_images/IMG_0298.JPG',\n",
       " '/home/nicolas/Documents/counter_Yolo/raw_images/IMG_0287.JPG',\n",
       " '/home/nicolas/Documents/counter_Yolo/raw_images/IMG_0290.JPG',\n",
       " '/home/nicolas/Documents/counter_Yolo/raw_images/IMG_0286.JPG',\n",
       " '/home/nicolas/Documents/counter_Yolo/raw_images/IMG_0299.JPG',\n",
       " '/home/nicolas/Documents/counter_Yolo/raw_images/IMG_0294.JPG',\n",
       " '/home/nicolas/Documents/counter_Yolo/raw_images/IMG_0319.JPG',\n",
       " '/home/nicolas/Documents/counter_Yolo/raw_images/IMG_0293.JPG',\n",
       " '/home/nicolas/Documents/counter_Yolo/raw_images/IMG_0318.JPG',\n",
       " '/home/nicolas/Documents/counter_Yolo/raw_images/IMG_0289.JPG',\n",
       " '/home/nicolas/Documents/counter_Yolo/raw_images/IMG_0317.JPG',\n",
       " '/home/nicolas/Documents/counter_Yolo/raw_images/IMG_0285.JPG',\n",
       " '/home/nicolas/Documents/counter_Yolo/raw_images/IMG_0300.JPG',\n",
       " '/home/nicolas/Documents/counter_Yolo/raw_images/IMG_0288.JPG',\n",
       " '/home/nicolas/Documents/counter_Yolo/raw_images/IMG_0304.JPG',\n",
       " '/home/nicolas/Documents/counter_Yolo/raw_images/IMG_0315.JPG',\n",
       " '/home/nicolas/Documents/counter_Yolo/raw_images/IMG_0281.JPG',\n",
       " '/home/nicolas/Documents/counter_Yolo/raw_images/IMG_0303.JPG',\n",
       " '/home/nicolas/Documents/counter_Yolo/raw_images/IMG_0283.JPG',\n",
       " '/home/nicolas/Documents/counter_Yolo/raw_images/IMG_0302.JPG',\n",
       " '/home/nicolas/Documents/counter_Yolo/raw_images/IMG_0292.JPG',\n",
       " '/home/nicolas/Documents/counter_Yolo/raw_images/IMG_0297.JPG',\n",
       " '/home/nicolas/Documents/counter_Yolo/raw_images/IMG_0295.JPG',\n",
       " '/home/nicolas/Documents/counter_Yolo/raw_images/IMG_0284.JPG',\n",
       " '/home/nicolas/Documents/counter_Yolo/raw_images/IMG_0309.JPG',\n",
       " '/home/nicolas/Documents/counter_Yolo/raw_images/IMG_0296.JPG',\n",
       " '/home/nicolas/Documents/counter_Yolo/raw_images/IMG_0308.JPG']"
      ]
     },
     "execution_count": 3,
     "metadata": {},
     "output_type": "execute_result"
    }
   ],
   "source": [
    "glob.glob(f'{path}/raw_images/*.JPG')"
   ]
  },
  {
   "cell_type": "code",
   "execution_count": 4,
   "id": "ebe89317-5340-4d21-bf13-890ec081b8fd",
   "metadata": {},
   "outputs": [],
   "source": [
    "def split_image(input_image_path, output_folder, output_image_size=(1280, 1280)):\n",
    "    # Open the input image\n",
    "    with Image.open(input_image_path) as img:\n",
    "        # Get the dimensions of the input image\n",
    "        width, height = img.size\n",
    "\n",
    "        # Calculate the number of smaller images in both dimensions\n",
    "        num_horizontal = width // output_image_size[0]\n",
    "        num_vertical = height // output_image_size[1]\n",
    "\n",
    "        # Loop through the smaller images and save them\n",
    "        d = 'A'\n",
    "        for i in range(num_horizontal):\n",
    "            for j in range(num_vertical):\n",
    "                # Define the region of interest (ROI) for the current smaller image\n",
    "                left = i * output_image_size[0]\n",
    "                right = left + output_image_size[0]\n",
    "                top = j * output_image_size[1]\n",
    "                bottom = top + output_image_size[1]\n",
    "                # Crop the region of interest\n",
    "                roi = img.crop((left, top, right, bottom))\n",
    "                # Save the smaller image\n",
    "                file = input_image_path.split('\\\\')[-1].replace('.JPG','')\n",
    "                output_path = f\"{output_folder}/{file}_{d}_{i}_{j}.png\"\n",
    "                roi.save(output_path)\n",
    "        d='B'\n",
    "        for i in range(num_horizontal):\n",
    "            for j in range(num_vertical):\n",
    "                # Define the region of interest (ROI) for the current smaller image\n",
    "                right = width- (i)* output_image_size[0]\n",
    "                left = width - (i+1)* output_image_size[0]\n",
    "                top = j * output_image_size[1]\n",
    "                bottom = top + output_image_size[1]\n",
    "                # Crop the region of interest\n",
    "                roi = img.crop((left, top, right, bottom))\n",
    "                # Save the smaller image\n",
    "                file = input_image_path.split('\\\\')[-1].replace('.JPG','')\n",
    "                output_path = f\"{output_folder}/{file}_{d}_{i}_{j}.png\"\n",
    "                roi.save(output_path)\n",
    "        d = 'C'\n",
    "        for i in range(num_horizontal):\n",
    "            for j in range(num_vertical):\n",
    "                # Define the region of interest (ROI) for the current smaller image\n",
    "                left = i * output_image_size[0]\n",
    "                right = left + output_image_size[0]\n",
    "                top =height -(j+1)* output_image_size[1]\n",
    "                bottom = height -j* output_image_size[1]\n",
    "                # Crop the region of interest\n",
    "                roi = img.crop((left, top, right, bottom))\n",
    "                # Save the smaller image\n",
    "                file = input_image_path.split('\\\\')[-1].replace('.JPG','')\n",
    "                output_path = f\"{output_folder}/{file}_{d}_{i}_{j}.png\"\n",
    "                roi.save(output_path)\n",
    "        d='D'\n",
    "        for i in range(num_horizontal):\n",
    "            for j in range(num_vertical):\n",
    "                # Define the region of interest (ROI) for the current smaller image\n",
    "                right = width- (i)* output_image_size[0]\n",
    "                left = width - (i+1)* output_image_size[0]\n",
    "                top =height -(j+1)* output_image_size[1]\n",
    "                bottom = height -j* output_image_size[1]\n",
    "                # Crop the region of interest\n",
    "                roi = img.crop((left, top, right, bottom))\n",
    "                # Save the smaller image\n",
    "                file = input_image_path.split('\\\\')[-1].replace('.JPG','')\n",
    "                output_path = f\"{output_folder}/{file}_{d}_{i}_{j}.png\"\n",
    "                roi.save(output_path)  \n",
    "        \n",
    "        "
   ]
  },
  {
   "cell_type": "code",
   "execution_count": 21,
   "id": "20f1828c-22ce-4640-8de1-a9f8c0e27c1c",
   "metadata": {
    "tags": []
   },
   "outputs": [],
   "source": [
    "for f in glob.glob(f'{path}/raw_images/*.jpg'):\n",
    "    input_image_path = f\n",
    "    # Specify the output folder\n",
    "    output_folder = 'C:\\\\Users\\\\nimod\\\\Documents\\\\Simonin_Doc\\\\counter_Yolo/raw_images\\\\1280x1280'\n",
    "    \n",
    "    # Call the function to split the image\n",
    "    split_image(input_image_path, output_folder)"
   ]
  },
  {
   "cell_type": "code",
   "execution_count": null,
   "id": "a9a42336-a5da-4e19-95bf-1cf2e1c3f191",
   "metadata": {},
   "outputs": [],
   "source": []
  }
 ],
 "metadata": {
  "kernelspec": {
   "display_name": "Python 3 (ipykernel)",
   "language": "python",
   "name": "python3"
  },
  "language_info": {
   "codemirror_mode": {
    "name": "ipython",
    "version": 3
   },
   "file_extension": ".py",
   "mimetype": "text/x-python",
   "name": "python",
   "nbconvert_exporter": "python",
   "pygments_lexer": "ipython3",
   "version": "3.11.7"
  }
 },
 "nbformat": 4,
 "nbformat_minor": 5
}
