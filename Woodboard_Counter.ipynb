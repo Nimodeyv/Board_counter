{
 "cells": [
  {
   "cell_type": "code",
   "execution_count": 1,
   "id": "7775bb4b-15ab-4a1a-b914-5ae52f5bb8fd",
   "metadata": {
    "scrolled": true
   },
   "outputs": [],
   "source": [
    "# !which jupyter"
   ]
  },
  {
   "cell_type": "code",
   "execution_count": 2,
   "id": "47e50339-774a-448f-84d9-0899f9f1fe2f",
   "metadata": {
    "tags": []
   },
   "outputs": [],
   "source": [
    "# !pip install ultralytics\n",
    "# !pip install ipywidgets"
   ]
  },
  {
   "cell_type": "code",
   "execution_count": 3,
   "id": "3a41e8f4-a3b2-42f1-90e1-e43840521794",
   "metadata": {
    "tags": []
   },
   "outputs": [],
   "source": [
    "# %matplotlib widget\n",
    "# import ipympl\n",
    "# %matplotlib inline\n",
    "from ultralytics import YOLO\n",
    "import PIL\n",
    "import cv2\n",
    "import matplotlib.pyplot as plt\n",
    "import ipywidgets as widgets\n",
    "from IPython.display import Image, display, clear_output\n",
    "import numpy as np\n",
    "# from scipy.signal import find_peaks\n",
    "import glob\n",
    "import os"
   ]
  },
  {
   "cell_type": "code",
   "execution_count": 4,
   "id": "10ff124c-babb-4cad-8b59-220a04c758ac",
   "metadata": {
    "tags": []
   },
   "outputs": [
    {
     "name": "stdout",
     "output_type": "stream",
     "text": [
      "/home/nicolas/Documents/counter_Yolo\n"
     ]
    }
   ],
   "source": [
    "HOME = os.getcwd()\n",
    "print(HOME)"
   ]
  },
  {
   "cell_type": "markdown",
   "id": "5caacd18-c5f6-435b-8346-47d5c01a3bb2",
   "metadata": {},
   "source": [
    "# Load model"
   ]
  },
  {
   "cell_type": "code",
   "execution_count": 5,
   "id": "eb397ce6-bcd7-4567-8643-1a3b25f18abf",
   "metadata": {
    "tags": []
   },
   "outputs": [],
   "source": [
    "# Load a pretrained model\n",
    "# model_path = r'C:\\Users\\nimod\\Documents\\Simonin_Doc\\counter_Yolo\\model_v2\\v2.1_25_epochs\\last.pt' # windows\n",
    "model_path = r'/home/nicolas/Documents/counter_Yolo/model_v2/v2.1_25_epochs/last.pt'\n",
    "model = YOLO(model_path)"
   ]
  },
  {
   "cell_type": "code",
   "execution_count": 6,
   "id": "df2283e6-5a63-4ecb-9675-57a5109cbfd2",
   "metadata": {
    "scrolled": true
   },
   "outputs": [],
   "source": [
    "# print(model.info)"
   ]
  },
  {
   "cell_type": "markdown",
   "id": "89cb7a42-180d-494a-a987-d02f435da790",
   "metadata": {},
   "source": [
    "# Crop and select image"
   ]
  },
  {
   "cell_type": "code",
   "execution_count": 7,
   "id": "992ea574-72cb-4874-aed0-655f3e76d92f",
   "metadata": {
    "scrolled": true,
    "tags": []
   },
   "outputs": [
    {
     "name": "stdout",
     "output_type": "stream",
     "text": [
      "['./raw_images/IMG_0282.JPG', './raw_images/IMG_0316.JPG', './raw_images/IMG_0301.JPG', './raw_images/IMG_0298.JPG', './raw_images/IMG_0287.JPG', './raw_images/IMG_0290.JPG', './raw_images/IMG_0286.JPG', './raw_images/IMG_0299.JPG', './raw_images/IMG_0294.JPG', './raw_images/IMG_0319.JPG', './raw_images/IMG_0293.JPG', './raw_images/IMG_0318.JPG', './raw_images/IMG_0289.JPG', './raw_images/IMG_0317.JPG', './raw_images/IMG_0285.JPG', './raw_images/IMG_0300.JPG', './raw_images/IMG_0288.JPG', './raw_images/IMG_0304.JPG', './raw_images/IMG_0315.JPG', './raw_images/IMG_0281.JPG', './raw_images/IMG_0303.JPG', './raw_images/IMG_0283.JPG', './raw_images/IMG_0302.JPG', './raw_images/IMG_0292.JPG', './raw_images/IMG_0297.JPG', './raw_images/IMG_0295.JPG', './raw_images/IMG_0284.JPG', './raw_images/IMG_0309.JPG', './raw_images/IMG_0296.JPG', './raw_images/IMG_0308.JPG']\n"
     ]
    }
   ],
   "source": [
    "List_img = glob.glob(f'./raw_images/*.JPG')\n",
    "print(List_img)"
   ]
  },
  {
   "cell_type": "code",
   "execution_count": 8,
   "id": "a10c4d2e-e946-459e-8cf3-8055bd0a7e93",
   "metadata": {},
   "outputs": [],
   "source": [
    "# im = cv2.cvtColor((cv2.imread(List_img[0])), cv2.COLOR_BGR2RGB)"
   ]
  },
  {
   "cell_type": "code",
   "execution_count": 9,
   "id": "a1f4b4c8-9aae-4fb9-b3b9-b908c63024e5",
   "metadata": {},
   "outputs": [],
   "source": [
    "# plot_crop_lines(List_img[0],v_min=0, v_max=0, h_min=200, h_max=300)"
   ]
  },
  {
   "cell_type": "code",
   "execution_count": 10,
   "id": "2a6ab089-eba6-44ab-85be-68aaec9d5d4a",
   "metadata": {},
   "outputs": [],
   "source": [
    "# f= List_img[0]\n",
    "# im = Image.open(f)\n",
    "# im2arr = np.array(im)\n",
    "# img = Image.fromarray(im2arr).resize((200,200))\n",
    "# display(img)"
   ]
  },
  {
   "cell_type": "code",
   "execution_count": 11,
   "id": "9c7e6fe9-f099-474b-a41b-9ca2f7c81d1a",
   "metadata": {},
   "outputs": [
    {
     "name": "stdout",
     "output_type": "stream",
     "text": [
      "(3024, 4032, 3)\n"
     ]
    }
   ],
   "source": [
    "# Avec PIL\n",
    "img = np.array(PIL.Image.open(List_img[0]))\n",
    "print(img.shape)\n",
    "# Avec CV2\n",
    "# img= cv2.cvtColor(cv2.imread(List_img[0]), cv2.COLOR_BGR2RGB)\n",
    "# print(img.shape)\n",
    "# target_ratio = None\n",
    "# display(PIL.Image.fromarray(img).resize((400,400)),PIL.Image.NEAREST)"
   ]
  },
  {
   "cell_type": "code",
   "execution_count": 12,
   "id": "301402b3-9b4d-467f-bcfa-c0d6963b27a6",
   "metadata": {
    "tags": []
   },
   "outputs": [
    {
     "data": {
      "application/vnd.jupyter.widget-view+json": {
       "model_id": "dde7ae54a73845b3a60279f68d019d1a",
       "version_major": 2,
       "version_minor": 0
      },
      "text/plain": [
       "Dropdown(description='Choix image', options=('./raw_images/IMG_0282.JPG', './raw_images/IMG_0316.JPG', './raw_…"
      ]
     },
     "metadata": {},
     "output_type": "display_data"
    },
    {
     "data": {
      "application/vnd.jupyter.widget-view+json": {
       "model_id": "ee484c8bce384228891981ad83f58033",
       "version_major": 2,
       "version_minor": 0
      },
      "text/plain": [
       "HBox(children=(IntSlider(value=100, description='Vert min:', max=1000), IntSlider(value=2500, description='Ver…"
      ]
     },
     "metadata": {},
     "output_type": "display_data"
    },
    {
     "data": {
      "application/vnd.jupyter.widget-view+json": {
       "model_id": "375483be186f46d2b6a7694e6a8d4641",
       "version_major": 2,
       "version_minor": 0
      },
      "text/plain": [
       "Output()"
      ]
     },
     "metadata": {},
     "output_type": "display_data"
    }
   ],
   "source": [
    "image = widgets.Dropdown(\n",
    "    options=List_img,\n",
    "    value=List_img[0],\n",
    "    description='Choix image',)\n",
    "\n",
    "vert_x_min = widgets.IntSlider(value=100,# int(img.shape[1]/10),\n",
    "                               min=0,max=1000,#int(img.shape[1]/2),step=25,\n",
    "                               description='Vert min:',)\n",
    "vert_x_max = widgets.IntSlider(value=2500, #int(img.shape[1]*9/10),\n",
    "                               min=0, #int(img.shape[1]/2),\n",
    "                               max=5000,# img.shape[1],step=25,\n",
    "                               description='Vert max:',)\n",
    "hori_y_min = widgets.IntSlider(value=100,#int(img.shape[0]/10),\n",
    "                               min=0,max=5000,#int(img.shape[0]/2),step=25,\n",
    "                               description='Hori min:', orientation='Horizontal')\n",
    "hori_y_max = widgets.IntSlider(value=2500,#int(img.shape[0]*9/10),\n",
    "                               min=0,#int(img.shape[0]/2),\n",
    "                               max=5000,#img.shape[0],step=25,\n",
    "                               description='Hori max:', orientation='Horizontal')\n",
    "\n",
    "def ratio(f,v_min, v_max, h_min, h_max):\n",
    "    size_to_display = 501\n",
    "    print(np.array(PIL.Image.open(f)).shape[1]//size_to_display )\n",
    "    return np.array(PIL.Image.open(f)).shape[1]//size_to_display \n",
    "\n",
    "def plot_crop_lines(f,v_min, v_max, h_min, h_max):\n",
    "    # global target_ratio\n",
    "    # Avec matplotlib\n",
    "    # i = cv2.imread(f)\n",
    "    # img = cv2.cvtColor(i, cv2.COLOR_BGR2RGB)\n",
    "    # height, width, _ = img.shape\n",
    "    # fig = plt.figure(figsize=(10,10))\n",
    "    # plt.plot([v_min,v_min], [0,height], color='r')\n",
    "    # plt.plot([v_max,v_max], [0,height], color='r')\n",
    "    # plt.plot([0,width], [h_min,h_min], color='r')\n",
    "    # plt.plot([0,width], [h_max,h_max], color='r')\n",
    "    # plt.imshow(img)\n",
    "    # fig, ax = plt.subplots(figsize=(10,10))\n",
    "    # ax.imshow(img)\n",
    "    # ax.plot([v_min,v_min], [0,height], color='r')\n",
    "    # ax.plot([v_max,v_max], [0,height], color='r')\n",
    "    # ax.plot([0,width], [h_min,h_min], color='r')\n",
    "    # ax.plot([0,width], [h_max,h_max], color='r')\n",
    "    # plt.show(fig)\n",
    "    # plt.close()\n",
    "    # ax.axis('off')\n",
    "    # fig.canvas.draw()\n",
    "    # display(fig)\n",
    "    # plt.close(fig)\n",
    "    # plt.show()\n",
    "    # im = img[vert_x_min.value:vert_x_max.value, hori_y_min.value:hori_y_max.value, :]    \n",
    "    #\n",
    "    # Avec Image PIL Et Numpy Array - FONCTIONNE OK\n",
    "    width = 5\n",
    "    img_ = np.array(PIL.Image.open(f))\n",
    "    img_[:, v_min-width:v_min+width, :] = [255, 0, 0]\n",
    "    img_[:, v_max-width:v_max+width, :] = [255, 0, 0]\n",
    "    img_[ h_min-width: h_min+width,: , :] = [255, 0, 0]\n",
    "    img_[ h_max-width: h_max+width,: , :] = [255, 0, 0]\n",
    "    # im = img[hori_y_min.value:hori_y_max.value, vert_x_min.value:vert_x_max.value, :]\n",
    "    target_rati = ratio(f,v_min, v_max, h_min, h_max)\n",
    "    image_display = PIL.Image.fromarray(img_)#.resize((img.shape[1]//target_ratio, img.shape[0]//target_ratio), PIL.Image.NEAREST)\n",
    "    display(image_display.resize((img_.shape[1]//target_rati,img_.shape[0]//target_rati),PIL.Image.NEAREST ))\n",
    "    # im = img_[h_min:h_max, v_min:v_max, :]\n",
    "\n",
    "ui = widgets.HBox([vert_x_min,vert_x_max,hori_y_min,hori_y_max])\n",
    "\n",
    "graph = widgets.interactive_output(plot_crop_lines,{'f':image, 'v_min':vert_x_min, \n",
    "                                                    'v_max':vert_x_max, 'h_min': hori_y_min, 'h_max':hori_y_max})\n",
    "display(image,ui,graph)    "
   ]
  },
  {
   "cell_type": "code",
   "execution_count": 13,
   "id": "deba598e-47fa-4705-a0b4-79429524483b",
   "metadata": {
    "tags": []
   },
   "outputs": [
    {
     "data": {
      "application/vnd.jupyter.widget-view+json": {
       "model_id": "164da40353274588bae88d5a486b6ca3",
       "version_major": 2,
       "version_minor": 0
      },
      "text/plain": [
       "FloatSlider(value=0.3, description='Seuil de détection:', max=1.0, step=0.05)"
      ]
     },
     "metadata": {},
     "output_type": "display_data"
    },
    {
     "data": {
      "application/vnd.jupyter.widget-view+json": {
       "model_id": "2bfd25e49f94400ebdcb1b1bed57499b",
       "version_major": 2,
       "version_minor": 0
      },
      "text/plain": [
       "Button(description='Count!', style=ButtonStyle())"
      ]
     },
     "metadata": {},
     "output_type": "display_data"
    },
    {
     "data": {
      "application/vnd.jupyter.widget-view+json": {
       "model_id": "1046d276849e4cf2b112b4a51ded63fa",
       "version_major": 2,
       "version_minor": 0
      },
      "text/plain": [
       "Output()"
      ]
     },
     "metadata": {},
     "output_type": "display_data"
    }
   ],
   "source": [
    "def show(results):\n",
    "    for r in results:      \n",
    "        \n",
    "        # plt.figure(figsize=(14,5))\n",
    "        # plt.suptitle('Comptage de planches')\n",
    "\n",
    "        # plt.subplot(1,2,1)\n",
    "        # im_array = r.plot(line_width=3)  # plot a BGR numpy array of predictions\n",
    "        # plt.imshow(im_array) #np.flip(im_array, axis=-1) to correct colors\n",
    "        # plt.text(0, -50, f\"Nombre de planches: {r.__len__()}\")\n",
    "        \n",
    "        # # On crée le np.array col0à3 coordonnées de la box, 4 et 5 milieu de chaque box, 6:confidence level\n",
    "        # coord = np.array(r.boxes.xyxy)\n",
    "        # coord = np.column_stack((coord, (coord[:,0]+coord[:,2])/2, (coord[:,1]+coord[:,3])/2, np.array(r.boxes.conf)))\n",
    "        # for i,c in enumerate(coord):\n",
    "        #     plt.text(x=c[4], y=c[5], s=i+1)\n",
    "\n",
    "        # plt.subplot(1,2,2)\n",
    "        # plt.plot(coord[:,6], marker='o')\n",
    "        # plt.xlabel('numéro de box')\n",
    "        # plt.ylabel('Confidence')\n",
    "        # plt.grid()\n",
    "        # plt.show()\n",
    "        # # plt.save('./predict_image.JPG')\n",
    "\n",
    "        im_array = r.plot(line_width=3)  # plot a BGR numpy array of predictions\n",
    "        # im = Image.fromarray(im_array)  # RGB PIL image\n",
    "        rate = ratio(image.value,vert_x_min.value,vert_x_max.value, hori_y_min.value, hori_y_max.value)\n",
    "        display(PIL.Image.fromarray(im_array).resize((im_array.shape[1]//rate,im_array.shape[0]//rate),PIL.Image.NEAREST ))\n",
    "        # im.show()  # show image\n",
    "        # im.save('results.jpg')  # save im\n",
    "        \n",
    "def count_board(conf):\n",
    "    # Run inference on source\n",
    "    img_cropped = np.array(PIL.Image.open(image.value))[hori_y_min.value:hori_y_max.value, vert_x_min.value:vert_x_max.value, :]\n",
    "    results = model.predict(source=img_cropped, # image_to_predict\n",
    "                            show=False, \n",
    "                            conf=conf,\n",
    "                            save=False, \n",
    "                            line_width=3,\n",
    "                            project='Board_counter',\n",
    "                            );\n",
    "    show(results)\n",
    "\n",
    "c = widgets.FloatSlider(\n",
    "    value=0.3,\n",
    "    min=0,max=1,step=0.05,\n",
    "    description='Seuil de détection:',)\n",
    "\n",
    "button = widgets.Button(description=\"Count!\")\n",
    "output = widgets.Output()\n",
    "\n",
    "# display(button, output)\n",
    "\n",
    "def on_button_clicked(b):\n",
    "    with output:\n",
    "        clear_output()\n",
    "        count_board(c.value)\n",
    "\n",
    "button.on_click(on_button_clicked)\n",
    "\n",
    "# out = widgets.interactive_output(count_board,{'conf':c})\n",
    "display(c,button,output)"
   ]
  },
  {
   "cell_type": "code",
   "execution_count": null,
   "id": "51ce3841-3b90-455a-b216-d23b5949e1e8",
   "metadata": {},
   "outputs": [],
   "source": []
  },
  {
   "cell_type": "code",
   "execution_count": null,
   "id": "c3886340-fef1-4eb7-9b87-1c88d574b69c",
   "metadata": {},
   "outputs": [],
   "source": []
  }
 ],
 "metadata": {
  "kernelspec": {
   "display_name": "Python 3 (ipykernel)",
   "language": "python",
   "name": "python3"
  },
  "language_info": {
   "codemirror_mode": {
    "name": "ipython",
    "version": 3
   },
   "file_extension": ".py",
   "mimetype": "text/x-python",
   "name": "python",
   "nbconvert_exporter": "python",
   "pygments_lexer": "ipython3",
   "version": "3.11.7"
  },
  "toc-autonumbering": true
 },
 "nbformat": 4,
 "nbformat_minor": 5
}
